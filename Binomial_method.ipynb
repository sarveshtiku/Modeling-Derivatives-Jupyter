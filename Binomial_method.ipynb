{
 "cells": [
  {
   "cell_type": "code",
   "execution_count": 3,
   "metadata": {},
   "outputs": [],
   "source": [
    "import numpy as np\n",
    "import matplotlib.pyplot as plt"
   ]
  },
  {
   "cell_type": "code",
   "execution_count": 4,
   "metadata": {},
   "outputs": [],
   "source": [
    "S0 = 100.0  # spot stock price\n",
    "K = 100.0  # strike\n",
    "T = 1.0  # maturity\n",
    "r = 0.1  # risk free rate\n",
    "sig = 0.2  # diffusion coefficient or volatility"
   ]
  },
  {
   "cell_type": "code",
   "execution_count": 5,
   "metadata": {},
   "outputs": [
    {
     "name": "stdout",
     "output_type": "stream",
     "text": [
      "BS Tree Price:  13.269537371978052\n"
     ]
    }
   ],
   "source": [
    "N = 15000  # number of periods or number of time steps\n",
    "payoff = \"call\"  # payoff\n",
    "\n",
    "dT = float(T) / N  # Delta t\n",
    "u = np.exp(sig * np.sqrt(dT))  # up factor\n",
    "d = 1.0 / u  # down factor\n",
    "\n",
    "V = np.zeros(N + 1)  # initialize the price vector\n",
    "\n",
    "# price S_T at time T\n",
    "S_T = np.array([(S0 * u**j * d ** (N - j)) for j in range(N + 1)])\n",
    "\n",
    "a = np.exp(r * dT)  # risk free compounded return\n",
    "p = (a - d) / (u - d)  # risk neutral up probability\n",
    "q = 1.0 - p  # risk neutral down probability\n",
    "\n",
    "if payoff == \"call\":\n",
    "    V[:] = np.maximum(S_T - K, 0.0)\n",
    "else:\n",
    "    V[:] = np.maximum(K - S_T, 0.0)\n",
    "\n",
    "for i in range(N - 1, -1, -1):\n",
    "    # the price vector is overwritten at each step\n",
    "    V[:-1] = np.exp(-r * dT) * (p * V[1:] + q * V[:-1])\n",
    "\n",
    "print(\"BS Tree Price: \", V[0])"
   ]
  },
  {
   "cell_type": "code",
   "execution_count": 6,
   "metadata": {},
   "outputs": [
    {
     "ename": "NameError",
     "evalue": "name 'partial' is not defined",
     "output_type": "error",
     "traceback": [
      "\u001b[0;31m---------------------------------------------------------------------------\u001b[0m",
      "\u001b[0;31mNameError\u001b[0m                                 Traceback (most recent call last)",
      "Cell \u001b[0;32mIn[6], line 1\u001b[0m\n\u001b[0;32m----> 1\u001b[0m BS_sigma \u001b[38;5;241m=\u001b[39m \u001b[43mpartial\u001b[49m(BS_pricer\u001b[38;5;241m.\u001b[39mBlackScholes, \u001b[38;5;124m\"\u001b[39m\u001b[38;5;124mcall\u001b[39m\u001b[38;5;124m\"\u001b[39m, S0, K, T, r)  \u001b[38;5;66;03m# binding the function\u001b[39;00m\n\u001b[1;32m      2\u001b[0m sigmas \u001b[38;5;241m=\u001b[39m np\u001b[38;5;241m.\u001b[39mlinspace(\u001b[38;5;241m0.01\u001b[39m, \u001b[38;5;241m10\u001b[39m, \u001b[38;5;241m1000\u001b[39m)\n\u001b[1;32m      4\u001b[0m plt\u001b[38;5;241m.\u001b[39mplot(sigmas, BS_sigma(sigmas))\n",
      "\u001b[0;31mNameError\u001b[0m: name 'partial' is not defined"
     ]
    }
   ],
   "source": [
    "BS_sigma = partial(BS_pricer.BlackScholes, \"call\", S0, K, T, r)  # binding the function\n",
    "sigmas = np.linspace(0.01, 10, 1000)\n",
    "\n",
    "plt.plot(sigmas, BS_sigma(sigmas))\n",
    "plt.xlabel(\"sig\")\n",
    "plt.ylabel(\"price\")\n",
    "plt.title(\"Black-Scholes price as function of volatility\")\n",
    "plt.show()"
   ]
  }
 ],
 "metadata": {
  "kernelspec": {
   "display_name": "Python 3",
   "language": "python",
   "name": "python3"
  },
  "language_info": {
   "codemirror_mode": {
    "name": "ipython",
    "version": 3
   },
   "file_extension": ".py",
   "mimetype": "text/x-python",
   "name": "python",
   "nbconvert_exporter": "python",
   "pygments_lexer": "ipython3",
   "version": "3.9.6"
  }
 },
 "nbformat": 4,
 "nbformat_minor": 2
}
